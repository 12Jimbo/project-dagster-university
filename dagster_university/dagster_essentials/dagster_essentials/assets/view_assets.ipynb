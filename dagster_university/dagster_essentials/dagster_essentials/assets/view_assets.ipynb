{
 "cells": [
  {
   "cell_type": "code",
   "execution_count": 15,
   "metadata": {},
   "outputs": [],
   "source": [
    "import pandas as pd\n",
    "import duckdb\n",
    "import constants\n",
    "\n",
    "import os\n",
    "from dagster._utils.backoff import backoff"
   ]
  },
  {
   "cell_type": "markdown",
   "metadata": {},
   "source": [
    "Some of the assets are materialized in a DuckDB database, so let's set up a connection:"
   ]
  },
  {
   "cell_type": "code",
   "execution_count": 16,
   "metadata": {},
   "outputs": [],
   "source": [
    "duckdb_path = '/workspaces/project-dagster-university/dagster_university/dagster_essentials/data/staging/data.duckdb'\n",
    "\n",
    "conn = backoff(\n",
    "        fn=duckdb.connect,\n",
    "        max_retries=10,\n",
    "        retry_on=(RuntimeError, duckdb.IOException),\n",
    "        kwargs={\"database\": duckdb_path},\n",
    "    )"
   ]
  },
  {
   "cell_type": "code",
   "execution_count": 9,
   "metadata": {},
   "outputs": [],
   "source": [
    "\n",
    "# Fomr trips.py\n",
    "query_z = \"\"\"\n",
    "          SELECT *\n",
    "          FROM zones\n",
    "          LIMIT 10\n",
    "          \"\"\"\n",
    "zones = conn.query(query_z).fetchdf()\n",
    "\n",
    "query_t = \"\"\"\n",
    "          SELECT *\n",
    "          FROM trips\n",
    "          LIMIT 10\n",
    "          \"\"\"\n",
    "trips = conn.query(query_t).fetchdf()\n",
    "\n",
    "\n",
    "# From metrics.py\n",
    "trips_filepath = '/workspaces/project-dagster-university/dagster_university/dagster_essentials/data/outputs/trips_by_week.csv'\n",
    "# trips_by_week = pd.read_csv(constants.TRIPS_BY_WEEK_FILE_PATH)\n",
    "trips_by_week = pd.read_csv(trips_filepath)\n"
   ]
  },
  {
   "cell_type": "code",
   "execution_count": 11,
   "metadata": {},
   "outputs": [
    {
     "name": "stdout",
     "output_type": "stream",
     "text": [
      "   zone_id                     zone        borough  \\\n",
      "0        1           Newark Airport            EWR   \n",
      "1        2              Jamaica Bay         Queens   \n",
      "2        3  Allerton/Pelham Gardens          Bronx   \n",
      "3        4            Alphabet City      Manhattan   \n",
      "4        5            Arden Heights  Staten Island   \n",
      "5        6  Arrochar/Fort Wadsworth  Staten Island   \n",
      "6        7                  Astoria         Queens   \n",
      "7        8             Astoria Park         Queens   \n",
      "8        9               Auburndale         Queens   \n",
      "9       24             Bloomingdale      Manhattan   \n",
      "\n",
      "                                            geometry  \n",
      "0  MULTIPOLYGON (((-74.18445299999996 40.69499599...  \n",
      "1  MULTIPOLYGON (((-73.82337597260663 40.63898704...  \n",
      "2  MULTIPOLYGON (((-73.84792614099985 40.87134223...  \n",
      "3  MULTIPOLYGON (((-73.97177410965318 40.72582128...  \n",
      "4  MULTIPOLYGON (((-74.17421738099989 40.56256808...  \n",
      "5  MULTIPOLYGON (((-74.06367318899999 40.60219816...  \n",
      "6  MULTIPOLYGON (((-73.90413637799996 40.76752031...  \n",
      "7  MULTIPOLYGON (((-73.92334041500001 40.77512891...  \n",
      "8  MULTIPOLYGON (((-73.78502434699996 40.76103651...  \n",
      "9  MULTIPOLYGON (((-73.95953658899997 40.79871852...  \n"
     ]
    }
   ],
   "source": [
    "print(zones)"
   ]
  },
  {
   "cell_type": "code",
   "execution_count": 12,
   "metadata": {},
   "outputs": [
    {
     "name": "stdout",
     "output_type": "stream",
     "text": [
      "   vendor_id  pickup_zone_id  dropoff_zone_id  rate_code_id  payment_type  \\\n",
      "0          2             238               42             1             2   \n",
      "1          2             138              231             1             1   \n",
      "2          1             140              186             1             1   \n",
      "3          1             140               43             1             1   \n",
      "4          2              79              137             1             1   \n",
      "5          1             162              137             1             1   \n",
      "6          1             170               48             1             1   \n",
      "7          1              48              164             1             2   \n",
      "8          1             113               61             1             1   \n",
      "9          2             239              263             1             1   \n",
      "\n",
      "     dropoff_datetime     pickup_datetime  trip_distance  passenger_count  \\\n",
      "0 2023-03-01 00:16:43 2023-03-01 00:06:43           0.00                1   \n",
      "1 2023-03-01 00:39:30 2023-03-01 00:08:25          12.40                2   \n",
      "2 2023-03-01 00:29:26 2023-03-01 00:15:04           3.30                0   \n",
      "3 2023-03-01 01:01:05 2023-03-01 00:49:37           2.90                1   \n",
      "4 2023-03-01 00:11:06 2023-03-01 00:08:04           1.23                1   \n",
      "5 2023-03-01 00:17:34 2023-03-01 00:09:09           1.20                1   \n",
      "6 2023-03-01 00:42:08 2023-03-01 00:32:21           1.80                1   \n",
      "7 2023-03-01 00:52:37 2023-03-01 00:45:12           2.00                1   \n",
      "8 2023-03-01 00:39:37 2023-03-01 00:19:43           5.30                1   \n",
      "9 2023-03-01 00:18:45 2023-03-01 00:08:42           2.27                1   \n",
      "\n",
      "   total_amount  \n",
      "0         11.10  \n",
      "1         76.49  \n",
      "2         28.05  \n",
      "3         24.70  \n",
      "4         14.64  \n",
      "5         18.00  \n",
      "6         20.50  \n",
      "7         15.70  \n",
      "8         40.40  \n",
      "9         22.20  \n"
     ]
    }
   ],
   "source": [
    "print(trips)"
   ]
  },
  {
   "cell_type": "code",
   "execution_count": 13,
   "metadata": {},
   "outputs": [
    {
     "name": "stdout",
     "output_type": "stream",
     "text": [
      "    Unnamed: 0      period  num_trips  passenger_count  total_amount  \\\n",
      "0            0  2023-03-06     774813        1019293.0  2.119257e+07   \n",
      "1            1  2023-03-13     787016        1044648.0  2.209606e+07   \n",
      "2            2  2023-02-27     560895         739953.0  1.518185e+07   \n",
      "3            3  2023-02-20         55             54.0  9.109000e+02   \n",
      "4            4  2002-12-30          5              7.0  3.267000e+02   \n",
      "5            5  2001-01-01          3              5.0  1.717000e+02   \n",
      "6            6  2023-03-20     734288         969859.0  2.067543e+07   \n",
      "7            7  2008-12-29          2              2.0  6.595000e+01   \n",
      "8            8  2023-03-27     546619         707576.0  1.548723e+07   \n",
      "9            9  2014-11-17          1              2.0  5.238000e+01   \n",
      "10          10  2023-04-03         69            100.0  1.693550e+03   \n",
      "\n",
      "    trip_distance  \n",
      "0      2739557.76  \n",
      "1      3079735.47  \n",
      "2      2412606.42  \n",
      "3            0.01  \n",
      "4           62.67  \n",
      "5           34.22  \n",
      "6      2935650.00  \n",
      "7           14.33  \n",
      "8      2120015.03  \n",
      "9            6.43  \n",
      "10         179.48  \n"
     ]
    }
   ],
   "source": [
    "print(trips_by_week)"
   ]
  },
  {
   "cell_type": "markdown",
   "metadata": {},
   "source": [
    "aggregating trips_by_week"
   ]
  },
  {
   "cell_type": "code",
   "execution_count": null,
   "metadata": {},
   "outputs": [],
   "source": [
    "query = \"\"\"\n",
    "            SELECT *\n",
    "            FROM trips\n",
    "            WHERE pickup_datetime >= '2023-01-01' AND pickup_datetime < '2023-04-01'\n",
    "            \"\"\""
   ]
  },
  {
   "cell_type": "code",
   "execution_count": 22,
   "metadata": {},
   "outputs": [],
   "source": [
    "query = \"\"\"\n",
    "            SELECT\n",
    "                DATE_TRUNC('week', pickup_datetime) as period,\n",
    "                COUNT(*) as num_trips,\n",
    "                SUM(passenger_count) as passenger_count,\n",
    "                SUM(total_amount) as total_amount,\n",
    "                SUM(trip_distance) as trip_distance,\n",
    "            FROM trips\n",
    "            WHERE pickup_datetime >= '2023-01-01' AND pickup_datetime < '2023-04-01'\n",
    "            GROUP BY DATE_TRUNC('week', pickup_datetime)\n",
    "            ORDER BY period  DESC\n",
    "            \"\"\""
   ]
  },
  {
   "cell_type": "code",
   "execution_count": 23,
   "metadata": {},
   "outputs": [],
   "source": [
    "trips_by_week = conn.execute(query).fetch_df()"
   ]
  },
  {
   "cell_type": "code",
   "execution_count": 24,
   "metadata": {},
   "outputs": [
    {
     "name": "stdout",
     "output_type": "stream",
     "text": [
      "      period  num_trips  passenger_count  total_amount  trip_distance\n",
      "0 2023-03-27     546603         707539.0  1.548673e+07     2119944.43\n",
      "1 2023-03-20     734288         969859.0  2.067543e+07     2935650.00\n",
      "2 2023-03-13     787016        1044648.0  2.209606e+07     3079735.47\n",
      "3 2023-03-06     774813        1019293.0  2.119257e+07     2739557.76\n",
      "4 2023-02-27     560895         739953.0  1.518185e+07     2412606.42\n",
      "5 2023-02-20         55             54.0  9.109000e+02           0.01\n"
     ]
    }
   ],
   "source": [
    "print(trips_by_week)"
   ]
  }
 ],
 "metadata": {
  "kernelspec": {
   "display_name": "Python 3",
   "language": "python",
   "name": "python3"
  },
  "language_info": {
   "codemirror_mode": {
    "name": "ipython",
    "version": 3
   },
   "file_extension": ".py",
   "mimetype": "text/x-python",
   "name": "python",
   "nbconvert_exporter": "python",
   "pygments_lexer": "ipython3",
   "version": "3.11.4"
  }
 },
 "nbformat": 4,
 "nbformat_minor": 2
}
